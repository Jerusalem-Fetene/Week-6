{
 "cells": [
  {
   "cell_type": "markdown",
   "metadata": {},
   "source": [
    "## feature engineering process for your credit scoring model"
   ]
  },
  {
   "cell_type": "code",
   "execution_count": 2,
   "metadata": {},
   "outputs": [],
   "source": [
    "import pandas as pd\n",
    "import numpy as np\n",
    "from sklearn.preprocessing import LabelEncoder, OneHotEncoder, StandardScaler\n",
    "from sklearn.impute import SimpleImputer"
   ]
  },
  {
   "cell_type": "code",
   "execution_count": 3,
   "metadata": {},
   "outputs": [],
   "source": [
    "# Load the data\n",
    "df = pd.read_csv(\"E:/KAIM 2/KAIM 2 Week 6/Week-6/data/cleaned_credit_data.csv\")"
   ]
  },
  {
   "cell_type": "code",
   "execution_count": 4,
   "metadata": {},
   "outputs": [],
   "source": [
    "# Convert TransactionStartTime to datetime\n",
    "df['TransactionStartTime'] = pd.to_datetime(df['TransactionStartTime'])"
   ]
  },
  {
   "cell_type": "code",
   "execution_count": 5,
   "metadata": {},
   "outputs": [
    {
     "name": "stdout",
     "output_type": "stream",
     "text": [
      "1. Creating Aggregate Features\n",
      "        CustomerId  TotalTransactionAmount  AverageTransactionAmount  \\\n",
      "0     CustomerId_1                -10000.0             -10000.000000   \n",
      "1    CustomerId_10                -10000.0             -10000.000000   \n",
      "2  CustomerId_1001                 20000.0               4000.000000   \n",
      "3  CustomerId_1002                  4225.0                384.090909   \n",
      "4  CustomerId_1003                 20000.0               3333.333333   \n",
      "\n",
      "   TransactionCount  TransactionAmountStd  \n",
      "0                 1                   NaN  \n",
      "1                 1                   NaN  \n",
      "2                 5           6558.963333  \n",
      "3                11            560.498966  \n",
      "4                 6           6030.478146  \n"
     ]
    }
   ],
   "source": [
    "# 1. Create Aggregate Features\n",
    "print(\"1. Creating Aggregate Features\")\n",
    "customer_agg = df.groupby('CustomerId').agg({\n",
    "    'Amount': ['sum', 'mean', 'count', 'std']\n",
    "}).reset_index()\n",
    "customer_agg.columns = ['CustomerId', 'TotalTransactionAmount', 'AverageTransactionAmount', 'TransactionCount', 'TransactionAmountStd']\n",
    "print(customer_agg.head())"
   ]
  },
  {
   "cell_type": "code",
   "execution_count": 6,
   "metadata": {},
   "outputs": [
    {
     "name": "stdout",
     "output_type": "stream",
     "text": [
      "\n",
      "2. Extracting Time-based Features\n",
      "       TransactionStartTime  TransactionHour  TransactionDay  \\\n",
      "0 2018-11-15 02:18:49+00:00                2              15   \n",
      "1 2018-11-15 02:19:08+00:00                2              15   \n",
      "2 2018-11-15 02:44:21+00:00                2              15   \n",
      "3 2018-11-15 03:32:55+00:00                3              15   \n",
      "4 2018-11-15 03:34:21+00:00                3              15   \n",
      "\n",
      "   TransactionMonth  TransactionYear  \n",
      "0                11             2018  \n",
      "1                11             2018  \n",
      "2                11             2018  \n",
      "3                11             2018  \n",
      "4                11             2018  \n"
     ]
    }
   ],
   "source": [
    "# 2. Extract Features\n",
    "print(\"\\n2. Extracting Time-based Features\")\n",
    "df['TransactionHour'] = df['TransactionStartTime'].dt.hour\n",
    "df['TransactionDay'] = df['TransactionStartTime'].dt.day\n",
    "df['TransactionMonth'] = df['TransactionStartTime'].dt.month\n",
    "df['TransactionYear'] = df['TransactionStartTime'].dt.year\n",
    "print(df[['TransactionStartTime', 'TransactionHour', 'TransactionDay', 'TransactionMonth', 'TransactionYear']].head())"
   ]
  },
  {
   "cell_type": "code",
   "execution_count": 12,
   "metadata": {},
   "outputs": [
    {
     "name": "stdout",
     "output_type": "stream",
     "text": [
      "1.5.1\n"
     ]
    }
   ],
   "source": [
    "import sklearn\n",
    "print(sklearn.__version__)"
   ]
  },
  {
   "cell_type": "code",
   "execution_count": 16,
   "metadata": {},
   "outputs": [],
   "source": [
    "# 3. Encode Categorical Variables\n",
    "#print(\"\\n3. Encoding Categorical Variables\")\n",
    "# Label Encoding\n",
    "le = LabelEncoder()\n",
    "label_encode_columns = ['ProductCategory', 'ChannelId', 'ProviderId', 'ProductId']\n",
    "for col in label_encode_columns:\n",
    "    df[f'{col}_encoded'] = le.fit_transform(df[col])"
   ]
  },
  {
   "cell_type": "code",
   "execution_count": 18,
   "metadata": {},
   "outputs": [
    {
     "name": "stdout",
     "output_type": "stream",
     "text": [
      "Requirement already satisfied: scikit-learn in c:\\users\\you\\appdata\\local\\programs\\python\\python312\\lib\\site-packages (1.5.1)\n",
      "Collecting scikit-learn\n",
      "  Downloading scikit_learn-1.5.2-cp312-cp312-win_amd64.whl.metadata (13 kB)\n",
      "Requirement already satisfied: numpy>=1.19.5 in c:\\users\\you\\appdata\\local\\programs\\python\\python312\\lib\\site-packages (from scikit-learn) (1.26.4)\n",
      "Requirement already satisfied: scipy>=1.6.0 in c:\\users\\you\\appdata\\local\\programs\\python\\python312\\lib\\site-packages (from scikit-learn) (1.14.1)\n",
      "Requirement already satisfied: joblib>=1.2.0 in c:\\users\\you\\appdata\\local\\programs\\python\\python312\\lib\\site-packages (from scikit-learn) (1.4.2)\n",
      "Requirement already satisfied: threadpoolctl>=3.1.0 in c:\\users\\you\\appdata\\local\\programs\\python\\python312\\lib\\site-packages (from scikit-learn) (3.5.0)\n",
      "Downloading scikit_learn-1.5.2-cp312-cp312-win_amd64.whl (11.0 MB)\n",
      "   ---------------------------------------- 0.0/11.0 MB ? eta -:--:--\n",
      "   ---------------------------------------- 0.0/11.0 MB ? eta -:--:--\n",
      "   ---------------------------------------- 0.0/11.0 MB ? eta -:--:--\n",
      "   ---------------------------------------- 0.0/11.0 MB ? eta -:--:--\n",
      "   ---------------------------------------- 0.0/11.0 MB ? eta -:--:--\n",
      "   ---------------------------------------- 0.0/11.0 MB ? eta -:--:--\n",
      "   ---------------------------------------- 0.0/11.0 MB ? eta -:--:--\n",
      "   ---------------------------------------- 0.0/11.0 MB ? eta -:--:--\n",
      "   ---------------------------------------- 0.0/11.0 MB ? eta -:--:--\n",
      "   ---------------------------------------- 0.0/11.0 MB ? eta -:--:--\n",
      "   ---------------------------------------- 0.0/11.0 MB ? eta -:--:--\n",
      "   ---------------------------------------- 0.0/11.0 MB ? eta -:--:--\n",
      "   ---------------------------------------- 0.0/11.0 MB ? eta -:--:--\n",
      "   ---------------------------------------- 0.0/11.0 MB ? eta -:--:--\n",
      "   ---------------------------------------- 0.0/11.0 MB ? eta -:--:--\n",
      "   ---------------------------------------- 0.0/11.0 MB ? eta -:--:--\n",
      "   ---------------------------------------- 0.0/11.0 MB ? eta -:--:--\n",
      "   ---------------------------------------- 0.0/11.0 MB ? eta -:--:--\n",
      "   ---------------------------------------- 0.0/11.0 MB ? eta -:--:--\n",
      "   ---------------------------------------- 0.0/11.0 MB ? eta -:--:--\n",
      "   ---------------------------------------- 0.0/11.0 MB ? eta -:--:--\n",
      "   ---------------------------------------- 0.0/11.0 MB ? eta -:--:--\n",
      "   ---------------------------------------- 0.0/11.0 MB ? eta -:--:--\n",
      "   ---------------------------------------- 0.0/11.0 MB ? eta -:--:--\n",
      "   ---------------------------------------- 0.0/11.0 MB ? eta -:--:--\n",
      "   ---------------------------------------- 0.0/11.0 MB ? eta -:--:--\n",
      "   ---------------------------------------- 0.0/11.0 MB ? eta -:--:--\n",
      "   ---------------------------------------- 0.0/11.0 MB ? eta -:--:--\n",
      "    --------------------------------------- 0.3/11.0 MB ? eta -:--:--\n",
      "    --------------------------------------- 0.3/11.0 MB ? eta -:--:--\n",
      "    --------------------------------------- 0.3/11.0 MB ? eta -:--:--\n",
      "    --------------------------------------- 0.3/11.0 MB ? eta -:--:--\n",
      "    --------------------------------------- 0.3/11.0 MB ? eta -:--:--\n",
      "    --------------------------------------- 0.3/11.0 MB ? eta -:--:--\n",
      "    --------------------------------------- 0.3/11.0 MB ? eta -:--:--\n",
      "    --------------------------------------- 0.3/11.0 MB ? eta -:--:--\n",
      "    --------------------------------------- 0.3/11.0 MB ? eta -:--:--\n",
      "    --------------------------------------- 0.3/11.0 MB ? eta -:--:--\n",
      "    --------------------------------------- 0.3/11.0 MB ? eta -:--:--\n",
      "    --------------------------------------- 0.3/11.0 MB ? eta -:--:--\n",
      "    --------------------------------------- 0.3/11.0 MB ? eta -:--:--\n",
      "    --------------------------------------- 0.3/11.0 MB ? eta -:--:--\n",
      "    --------------------------------------- 0.3/11.0 MB ? eta -:--:--\n",
      "    --------------------------------------- 0.3/11.0 MB ? eta -:--:--\n",
      "    --------------------------------------- 0.3/11.0 MB ? eta -:--:--\n",
      "    --------------------------------------- 0.3/11.0 MB ? eta -:--:--\n",
      "    --------------------------------------- 0.3/11.0 MB ? eta -:--:--\n",
      "    --------------------------------------- 0.3/11.0 MB ? eta -:--:--\n",
      "    --------------------------------------- 0.3/11.0 MB ? eta -:--:--\n",
      "    --------------------------------------- 0.3/11.0 MB ? eta -:--:--\n",
      "    --------------------------------------- 0.3/11.0 MB ? eta -:--:--\n",
      "    --------------------------------------- 0.3/11.0 MB ? eta -:--:--\n",
      "    --------------------------------------- 0.3/11.0 MB ? eta -:--:--\n",
      "    --------------------------------------- 0.3/11.0 MB ? eta -:--:--\n",
      "    --------------------------------------- 0.3/11.0 MB ? eta -:--:--\n",
      "    --------------------------------------- 0.3/11.0 MB ? eta -:--:--\n",
      "    --------------------------------------- 0.3/11.0 MB ? eta -:--:--\n",
      "    --------------------------------------- 0.3/11.0 MB ? eta -:--:--\n",
      "    --------------------------------------- 0.3/11.0 MB ? eta -:--:--\n",
      "    --------------------------------------- 0.3/11.0 MB ? eta -:--:--\n",
      "    --------------------------------------- 0.3/11.0 MB ? eta -:--:--\n",
      "    --------------------------------------- 0.3/11.0 MB ? eta -:--:--\n",
      "    --------------------------------------- 0.3/11.0 MB ? eta -:--:--\n",
      "    --------------------------------------- 0.3/11.0 MB ? eta -:--:--\n",
      "    --------------------------------------- 0.3/11.0 MB ? eta -:--:--\n",
      "    --------------------------------------- 0.3/11.0 MB ? eta -:--:--\n",
      "    --------------------------------------- 0.3/11.0 MB ? eta -:--:--\n",
      "    --------------------------------------- 0.3/11.0 MB ? eta -:--:--\n",
      "    --------------------------------------- 0.3/11.0 MB ? eta -:--:--\n",
      "    --------------------------------------- 0.3/11.0 MB ? eta -:--:--\n",
      "    --------------------------------------- 0.3/11.0 MB ? eta -:--:--\n",
      "    --------------------------------------- 0.3/11.0 MB ? eta -:--:--\n",
      "    --------------------------------------- 0.3/11.0 MB ? eta -:--:--\n",
      "    --------------------------------------- 0.3/11.0 MB ? eta -:--:--\n",
      "    --------------------------------------- 0.3/11.0 MB ? eta -:--:--\n",
      "    --------------------------------------- 0.3/11.0 MB ? eta -:--:--\n",
      "    --------------------------------------- 0.3/11.0 MB ? eta -:--:--\n",
      "    --------------------------------------- 0.3/11.0 MB ? eta -:--:--\n",
      "    --------------------------------------- 0.3/11.0 MB ? eta -:--:--\n",
      "    --------------------------------------- 0.3/11.0 MB ? eta -:--:--\n",
      "    --------------------------------------- 0.3/11.0 MB ? eta -:--:--\n",
      "    --------------------------------------- 0.3/11.0 MB ? eta -:--:--\n",
      "    --------------------------------------- 0.3/11.0 MB ? eta -:--:--\n",
      "    --------------------------------------- 0.3/11.0 MB ? eta -:--:--\n",
      "    --------------------------------------- 0.3/11.0 MB ? eta -:--:--\n",
      "    --------------------------------------- 0.3/11.0 MB ? eta -:--:--\n",
      "    --------------------------------------- 0.3/11.0 MB ? eta -:--:--\n",
      "    --------------------------------------- 0.3/11.0 MB ? eta -:--:--\n",
      "   - -------------------------------------- 0.5/11.0 MB 19.2 kB/s eta 0:09:07\n",
      "   - -------------------------------------- 0.5/11.0 MB 19.2 kB/s eta 0:09:07\n",
      "   - -------------------------------------- 0.5/11.0 MB 19.2 kB/s eta 0:09:07\n",
      "   -- ------------------------------------- 0.8/11.0 MB 35.8 kB/s eta 0:04:45\n",
      "   -- ------------------------------------- 0.8/11.0 MB 35.8 kB/s eta 0:04:45\n",
      "   -- ------------------------------------- 0.8/11.0 MB 35.8 kB/s eta 0:04:45\n",
      "   -- ------------------------------------- 0.8/11.0 MB 35.8 kB/s eta 0:04:45\n",
      "   -- ------------------------------------- 0.8/11.0 MB 35.8 kB/s eta 0:04:45\n",
      "   -- ------------------------------------- 0.8/11.0 MB 35.8 kB/s eta 0:04:45\n",
      "   -- ------------------------------------- 0.8/11.0 MB 35.8 kB/s eta 0:04:45\n",
      "   -- ------------------------------------- 0.8/11.0 MB 35.8 kB/s eta 0:04:45\n",
      "   --- ------------------------------------ 1.0/11.0 MB 46.6 kB/s eta 0:03:34\n",
      "   --- ------------------------------------ 1.0/11.0 MB 46.6 kB/s eta 0:03:34\n",
      "   --- ------------------------------------ 1.0/11.0 MB 46.6 kB/s eta 0:03:34\n",
      "   --- ------------------------------------ 1.0/11.0 MB 46.6 kB/s eta 0:03:34\n",
      "   ---- ----------------------------------- 1.3/11.0 MB 57.6 kB/s eta 0:02:48\n",
      "   ----- ---------------------------------- 1.6/11.0 MB 70.4 kB/s eta 0:02:14\n",
      "   ------ --------------------------------- 1.8/11.0 MB 82.8 kB/s eta 0:01:51\n",
      "   ------- -------------------------------- 2.1/11.0 MB 95.3 kB/s eta 0:01:34\n",
      "   ------- -------------------------------- 2.1/11.0 MB 95.3 kB/s eta 0:01:34\n",
      "   ------- -------------------------------- 2.1/11.0 MB 95.3 kB/s eta 0:01:34\n",
      "   ------- -------------------------------- 2.1/11.0 MB 95.3 kB/s eta 0:01:34\n",
      "   ------- -------------------------------- 2.1/11.0 MB 95.3 kB/s eta 0:01:34\n",
      "   ------- -------------------------------- 2.1/11.0 MB 95.3 kB/s eta 0:01:34\n",
      "   ------- -------------------------------- 2.1/11.0 MB 95.3 kB/s eta 0:01:34\n",
      "   ------- -------------------------------- 2.1/11.0 MB 95.3 kB/s eta 0:01:34\n",
      "   -------- ------------------------------- 2.4/11.0 MB 98.5 kB/s eta 0:01:28\n",
      "   -------- ------------------------------- 2.4/11.0 MB 98.5 kB/s eta 0:01:28\n",
      "   -------- ------------------------------- 2.4/11.0 MB 98.5 kB/s eta 0:01:28\n",
      "   -------- ------------------------------- 2.4/11.0 MB 98.5 kB/s eta 0:01:28\n",
      "   -------- ------------------------------- 2.4/11.0 MB 98.5 kB/s eta 0:01:28\n",
      "   -------- ------------------------------- 2.4/11.0 MB 98.5 kB/s eta 0:01:28\n",
      "   -------- ------------------------------- 2.4/11.0 MB 98.5 kB/s eta 0:01:28\n",
      "   -------- ------------------------------- 2.4/11.0 MB 98.5 kB/s eta 0:01:28\n",
      "   -------- ------------------------------- 2.4/11.0 MB 98.5 kB/s eta 0:01:28\n",
      "   -------- ------------------------------- 2.4/11.0 MB 98.5 kB/s eta 0:01:28\n",
      "   --------- ------------------------------ 2.6/11.0 MB 99.2 kB/s eta 0:01:25\n",
      "   ---------- ----------------------------- 2.9/11.0 MB 109.2 kB/s eta 0:01:15\n",
      "   ---------- ----------------------------- 2.9/11.0 MB 109.2 kB/s eta 0:01:15\n",
      "   ---------- ----------------------------- 2.9/11.0 MB 109.2 kB/s eta 0:01:15\n",
      "   ----------- ---------------------------- 3.1/11.0 MB 117.1 kB/s eta 0:01:07\n",
      "   ----------- ---------------------------- 3.1/11.0 MB 117.1 kB/s eta 0:01:07\n",
      "   ----------- ---------------------------- 3.1/11.0 MB 117.1 kB/s eta 0:01:07\n",
      "   ----------- ---------------------------- 3.1/11.0 MB 117.1 kB/s eta 0:01:07\n",
      "   ----------- ---------------------------- 3.1/11.0 MB 117.1 kB/s eta 0:01:07\n",
      "   ----------- ---------------------------- 3.1/11.0 MB 117.1 kB/s eta 0:01:07\n",
      "   ----------- ---------------------------- 3.1/11.0 MB 117.1 kB/s eta 0:01:07\n",
      "   ------------ --------------------------- 3.4/11.0 MB 120.0 kB/s eta 0:01:04\n",
      "   ------------ --------------------------- 3.4/11.0 MB 120.0 kB/s eta 0:01:04\n",
      "   ------------- -------------------------- 3.7/11.0 MB 127.5 kB/s eta 0:00:58\n",
      "   -------------- ------------------------- 3.9/11.0 MB 135.8 kB/s eta 0:00:52\n",
      "   -------------- ------------------------- 3.9/11.0 MB 135.8 kB/s eta 0:00:52\n",
      "   --------------- ------------------------ 4.2/11.0 MB 143.1 kB/s eta 0:00:48\n",
      "   --------------- ------------------------ 4.2/11.0 MB 143.1 kB/s eta 0:00:48\n",
      "   ---------------- ----------------------- 4.5/11.0 MB 150.8 kB/s eta 0:00:44\n",
      "   ----------------- ---------------------- 4.7/11.0 MB 158.6 kB/s eta 0:00:40\n",
      "   ----------------- ---------------------- 4.7/11.0 MB 158.6 kB/s eta 0:00:40\n",
      "   ------------------ --------------------- 5.0/11.0 MB 166.3 kB/s eta 0:00:37\n",
      "   ------------------- -------------------- 5.2/11.0 MB 174.0 kB/s eta 0:00:34\n",
      "   ------------------- -------------------- 5.2/11.0 MB 174.0 kB/s eta 0:00:34\n",
      "   ------------------- -------------------- 5.2/11.0 MB 174.0 kB/s eta 0:00:34\n",
      "   ------------------- -------------------- 5.2/11.0 MB 174.0 kB/s eta 0:00:34\n",
      "   -------------------- ------------------- 5.5/11.0 MB 178.0 kB/s eta 0:00:31\n",
      "   -------------------- ------------------- 5.8/11.0 MB 184.4 kB/s eta 0:00:29\n",
      "   --------------------- ------------------ 6.0/11.0 MB 335.5 kB/s eta 0:00:15\n",
      "   --------------------- ------------------ 6.0/11.0 MB 335.5 kB/s eta 0:00:15\n",
      "   ---------------------- ----------------- 6.3/11.0 MB 343.7 kB/s eta 0:00:14\n",
      "   ---------------------- ----------------- 6.3/11.0 MB 343.7 kB/s eta 0:00:14\n",
      "   ---------------------- ----------------- 6.3/11.0 MB 343.7 kB/s eta 0:00:14\n",
      "   ----------------------- ---------------- 6.6/11.0 MB 345.5 kB/s eta 0:00:13\n",
      "   ----------------------- ---------------- 6.6/11.0 MB 345.5 kB/s eta 0:00:13\n",
      "   ----------------------- ---------------- 6.6/11.0 MB 345.5 kB/s eta 0:00:13\n",
      "   ----------------------- ---------------- 6.6/11.0 MB 345.5 kB/s eta 0:00:13\n",
      "   ------------------------ --------------- 6.8/11.0 MB 344.4 kB/s eta 0:00:13\n",
      "   ------------------------ --------------- 6.8/11.0 MB 344.4 kB/s eta 0:00:13\n",
      "   ------------------------- -------------- 7.1/11.0 MB 350.4 kB/s eta 0:00:12\n",
      "   ------------------------- -------------- 7.1/11.0 MB 350.4 kB/s eta 0:00:12\n",
      "   -------------------------- ------------- 7.3/11.0 MB 358.4 kB/s eta 0:00:11\n",
      "   --------------------------- ------------ 7.6/11.0 MB 367.4 kB/s eta 0:00:10\n",
      "   --------------------------- ------------ 7.6/11.0 MB 367.4 kB/s eta 0:00:10\n",
      "   ---------------------------- ----------- 7.9/11.0 MB 372.2 kB/s eta 0:00:09\n",
      "   ----------------------------- ---------- 8.1/11.0 MB 380.4 kB/s eta 0:00:08\n",
      "   ----------------------------- ---------- 8.1/11.0 MB 380.4 kB/s eta 0:00:08\n",
      "   ----------------------------- ---------- 8.1/11.0 MB 380.4 kB/s eta 0:00:08\n",
      "   ----------------------------- ---------- 8.1/11.0 MB 380.4 kB/s eta 0:00:08\n",
      "   ----------------------------- ---------- 8.1/11.0 MB 380.4 kB/s eta 0:00:08\n",
      "   ------------------------------ --------- 8.4/11.0 MB 374.8 kB/s eta 0:00:07\n",
      "   ------------------------------- -------- 8.7/11.0 MB 383.0 kB/s eta 0:00:07\n",
      "   -------------------------------- ------- 8.9/11.0 MB 389.6 kB/s eta 0:00:06\n",
      "   -------------------------------- ------- 8.9/11.0 MB 389.6 kB/s eta 0:00:06\n",
      "   -------------------------------- ------- 8.9/11.0 MB 389.6 kB/s eta 0:00:06\n",
      "   --------------------------------- ------ 9.2/11.0 MB 388.8 kB/s eta 0:00:05\n",
      "   --------------------------------- ------ 9.2/11.0 MB 388.8 kB/s eta 0:00:05\n",
      "   --------------------------------- ------ 9.2/11.0 MB 388.8 kB/s eta 0:00:05\n",
      "   --------------------------------- ------ 9.2/11.0 MB 388.8 kB/s eta 0:00:05\n",
      "   --------------------------------- ------ 9.2/11.0 MB 388.8 kB/s eta 0:00:05\n",
      "   --------------------------------- ------ 9.2/11.0 MB 388.8 kB/s eta 0:00:05\n",
      "   --------------------------------- ------ 9.2/11.0 MB 388.8 kB/s eta 0:00:05\n",
      "   --------------------------------- ------ 9.2/11.0 MB 388.8 kB/s eta 0:00:05\n",
      "   --------------------------------- ------ 9.2/11.0 MB 388.8 kB/s eta 0:00:05\n",
      "   --------------------------------- ------ 9.2/11.0 MB 388.8 kB/s eta 0:00:05\n",
      "   --------------------------------- ------ 9.2/11.0 MB 388.8 kB/s eta 0:00:05\n",
      "   --------------------------------- ------ 9.2/11.0 MB 388.8 kB/s eta 0:00:05\n",
      "   --------------------------------- ------ 9.2/11.0 MB 388.8 kB/s eta 0:00:05\n",
      "   --------------------------------- ------ 9.2/11.0 MB 388.8 kB/s eta 0:00:05\n",
      "   --------------------------------- ------ 9.2/11.0 MB 388.8 kB/s eta 0:00:05\n",
      "   --------------------------------- ------ 9.2/11.0 MB 388.8 kB/s eta 0:00:05\n",
      "   ---------------------------------- ----- 9.4/11.0 MB 348.0 kB/s eta 0:00:05\n",
      "   ---------------------------------- ----- 9.4/11.0 MB 348.0 kB/s eta 0:00:05\n",
      "   ---------------------------------- ----- 9.4/11.0 MB 348.0 kB/s eta 0:00:05\n",
      "   ----------------------------------- ---- 9.7/11.0 MB 349.7 kB/s eta 0:00:04\n",
      "   ----------------------------------- ---- 9.7/11.0 MB 349.7 kB/s eta 0:00:04\n",
      "   ----------------------------------- ---- 9.7/11.0 MB 349.7 kB/s eta 0:00:04\n",
      "   ----------------------------------- ---- 9.7/11.0 MB 349.7 kB/s eta 0:00:04\n",
      "   ----------------------------------- ---- 9.7/11.0 MB 349.7 kB/s eta 0:00:04\n",
      "   ----------------------------------- ---- 9.7/11.0 MB 349.7 kB/s eta 0:00:04\n",
      "   ----------------------------------- ---- 9.7/11.0 MB 349.7 kB/s eta 0:00:04\n",
      "   ----------------------------------- ---- 9.7/11.0 MB 349.7 kB/s eta 0:00:04\n",
      "   ----------------------------------- ---- 9.7/11.0 MB 349.7 kB/s eta 0:00:04\n",
      "   ----------------------------------- ---- 9.7/11.0 MB 349.7 kB/s eta 0:00:04\n",
      "   ----------------------------------- ---- 9.7/11.0 MB 349.7 kB/s eta 0:00:04\n",
      "   ----------------------------------- ---- 9.7/11.0 MB 349.7 kB/s eta 0:00:04\n",
      "Note: you may need to restart the kernel to use updated packages.\n",
      "   ------------------------------------ --- 10.0/11.0 MB 325.9 kB/s eta 0:00:04\n",
      "   ------------------------------------ --- 10.0/11.0 MB 325.9 kB/s eta 0:00:04\n",
      "   ------------------------------------ --- 10.0/11.0 MB 325.9 kB/s eta 0:00:04\n",
      "   ------------------------------------- -- 10.2/11.0 MB 329.8 kB/s eta 0:00:03\n",
      "   -------------------------------------- - 10.5/11.0 MB 334.3 kB/s eta 0:00:02\n",
      "   -------------------------------------- - 10.5/11.0 MB 334.3 kB/s eta 0:00:02\n",
      "   ---------------------------------------  10.7/11.0 MB 342.0 kB/s eta 0:00:01\n",
      "   ---------------------------------------- 11.0/11.0 MB 347.6 kB/s eta 0:00:00\n",
      "Installing collected packages: scikit-learn\n",
      "  Attempting uninstall: scikit-learn\n",
      "    Found existing installation: scikit-learn 1.5.1\n",
      "    Uninstalling scikit-learn-1.5.1:\n",
      "      Successfully uninstalled scikit-learn-1.5.1\n",
      "Successfully installed scikit-learn-1.5.2\n"
     ]
    },
    {
     "name": "stderr",
     "output_type": "stream",
     "text": [
      "  WARNING: Failed to remove contents in a temporary directory 'C:\\Users\\you\\AppData\\Local\\Programs\\Python\\Python312\\Lib\\site-packages\\~klearn'.\n",
      "  You can safely remove it manually.\n"
     ]
    }
   ],
   "source": [
    "pip install --upgrade scikit-learn"
   ]
  },
  {
   "cell_type": "code",
   "execution_count": 20,
   "metadata": {},
   "outputs": [],
   "source": [
    "# One-Hot Encoding\n",
    "onehot_columns = ['CurrencyCode', 'CountryCode']\n",
    "#onehot_encoder = OneHotEncoder(sparse=False, handle_unknown='ignore')\n",
    "onehot_encoder = OneHotEncoder(sparse_output=False, handle_unknown='ignore')\n",
    "onehot_encoded = onehot_encoder.fit_transform(df[onehot_columns])\n",
    "#onehot_columns_names = onehot_encoder.get_feature_names(onehot_columns)\n",
    "onehot_columns_names = onehot_encoder.get_feature_names_out(onehot_columns)\n",
    "df_onehot = pd.DataFrame(onehot_encoded, columns=onehot_columns_names, index=df.index)\n",
    "df = pd.concat([df, df_onehot], axis=1)"
   ]
  },
  {
   "cell_type": "code",
   "execution_count": 28,
   "metadata": {},
   "outputs": [
    {
     "name": "stdout",
     "output_type": "stream",
     "text": [
      "\n",
      "3. Encoding Categorical Variables\n",
      "Columns after encoding:\n",
      "Index(['TransactionId', 'BatchId', 'AccountId', 'SubscriptionId', 'CustomerId',\n",
      "       'CurrencyCode', 'CountryCode', 'ProviderId', 'ProductId',\n",
      "       'ProductCategory', 'ChannelId', 'Amount', 'Value',\n",
      "       'TransactionStartTime', 'PricingStrategy', 'FraudResult',\n",
      "       'TransactionHour', 'TransactionDay', 'TransactionMonth',\n",
      "       'TransactionYear', 'ProductCategory_encoded', 'ChannelId_encoded',\n",
      "       'ProviderId_encoded', 'ProductId_encoded', 'CurrencyCode_UGX',\n",
      "       'CountryCode_256'],\n",
      "      dtype='object')\n"
     ]
    }
   ],
   "source": [
    "print(\"\\n3. Encoding Categorical Variables\")\n",
    "print(\"Columns after encoding:\")\n",
    "print(df.columns)"
   ]
  },
  {
   "cell_type": "code",
   "execution_count": 22,
   "metadata": {},
   "outputs": [
    {
     "name": "stdout",
     "output_type": "stream",
     "text": [
      "\n",
      "4. Handling Missing Values\n",
      "Missing values before imputation:\n",
      "TransactionId              0\n",
      "BatchId                    0\n",
      "AccountId                  0\n",
      "SubscriptionId             0\n",
      "CustomerId                 0\n",
      "CurrencyCode               0\n",
      "CountryCode                0\n",
      "ProviderId                 0\n",
      "ProductId                  0\n",
      "ProductCategory            0\n",
      "ChannelId                  0\n",
      "Amount                     0\n",
      "Value                      0\n",
      "TransactionStartTime       0\n",
      "PricingStrategy            0\n",
      "FraudResult                0\n",
      "TransactionHour            0\n",
      "TransactionDay             0\n",
      "TransactionMonth           0\n",
      "TransactionYear            0\n",
      "ProductCategory_encoded    0\n",
      "ChannelId_encoded          0\n",
      "ProviderId_encoded         0\n",
      "ProductId_encoded          0\n",
      "CurrencyCode_UGX           0\n",
      "CountryCode_256            0\n",
      "dtype: int64\n"
     ]
    }
   ],
   "source": [
    "# 4. Handle Missing Values\n",
    "print(\"\\n4. Handling Missing Values\")\n",
    "print(\"Missing values before imputation:\")\n",
    "print(df.isnull().sum())"
   ]
  },
  {
   "cell_type": "code",
   "execution_count": 23,
   "metadata": {},
   "outputs": [],
   "source": [
    "# Imputation\n",
    "numeric_columns = df.select_dtypes(include=[np.number]).columns\n",
    "imputer = SimpleImputer(strategy='mean')\n",
    "df[numeric_columns] = imputer.fit_transform(df[numeric_columns])"
   ]
  },
  {
   "cell_type": "code",
   "execution_count": 24,
   "metadata": {},
   "outputs": [
    {
     "name": "stdout",
     "output_type": "stream",
     "text": [
      "\n",
      "Missing values after imputation:\n",
      "TransactionId              0\n",
      "BatchId                    0\n",
      "AccountId                  0\n",
      "SubscriptionId             0\n",
      "CustomerId                 0\n",
      "CurrencyCode               0\n",
      "CountryCode                0\n",
      "ProviderId                 0\n",
      "ProductId                  0\n",
      "ProductCategory            0\n",
      "ChannelId                  0\n",
      "Amount                     0\n",
      "Value                      0\n",
      "TransactionStartTime       0\n",
      "PricingStrategy            0\n",
      "FraudResult                0\n",
      "TransactionHour            0\n",
      "TransactionDay             0\n",
      "TransactionMonth           0\n",
      "TransactionYear            0\n",
      "ProductCategory_encoded    0\n",
      "ChannelId_encoded          0\n",
      "ProviderId_encoded         0\n",
      "ProductId_encoded          0\n",
      "CurrencyCode_UGX           0\n",
      "CountryCode_256            0\n",
      "dtype: int64\n"
     ]
    }
   ],
   "source": [
    "print(\"\\nMissing values after imputation:\")\n",
    "print(df.isnull().sum())"
   ]
  },
  {
   "cell_type": "code",
   "execution_count": 26,
   "metadata": {},
   "outputs": [
    {
     "name": "stdout",
     "output_type": "stream",
     "text": [
      "\n",
      "5. Normalizing/Standardizing Numerical Features\n",
      "Sample of standardized numerical features:\n",
      "   CountryCode    Amount     Value  PricingStrategy  FraudResult  \\\n",
      "0          0.0 -0.046371 -0.072291        -0.349252    -0.044962   \n",
      "1          0.0 -0.054643 -0.080251        -0.349252    -0.044962   \n",
      "2          0.0 -0.050426 -0.076352        -0.349252    -0.044962   \n",
      "3          0.0  0.107717  0.096648        -0.349252    -0.044962   \n",
      "4          0.0 -0.059704 -0.075183        -0.349252    -0.044962   \n",
      "\n",
      "   TransactionHour  TransactionDay  TransactionMonth  TransactionYear  \\\n",
      "0        -2.155530       -0.100739          0.848684        -0.994246   \n",
      "1        -2.155530       -0.100739          0.848684        -0.994246   \n",
      "2        -2.155530       -0.100739          0.848684        -0.994246   \n",
      "3        -1.949214       -0.100739          0.848684        -0.994246   \n",
      "4        -1.949214       -0.100739          0.848684        -0.994246   \n",
      "\n",
      "   ProductCategory_encoded  ChannelId_encoded  ProviderId_encoded  \\\n",
      "0                -0.799047           0.746738            1.025848   \n",
      "1                 0.491064          -1.175144           -0.502027   \n",
      "2                -0.799047           0.746738            1.025848   \n",
      "3                 4.361398           0.746738           -2.793841   \n",
      "4                 0.491064          -1.175144           -0.502027   \n",
      "\n",
      "   ProductId_encoded  CurrencyCode_UGX  CountryCode_256  \n",
      "0          -1.578054               0.0              0.0  \n",
      "1           0.916063               0.0              0.0  \n",
      "2          -1.716616               0.0              0.0  \n",
      "3          -0.192433               0.0              0.0  \n",
      "4           0.916063               0.0              0.0  \n"
     ]
    }
   ],
   "source": [
    "# 5. Normalize/Standardize Numerical Features\n",
    "print(\"\\n5. Normalizing/Standardizing Numerical Features\")\n",
    "scaler = StandardScaler()\n",
    "numeric_columns = df.select_dtypes(include=[np.number]).columns\n",
    "df[numeric_columns] = scaler.fit_transform(df[numeric_columns])\n",
    "print(\"Sample of standardized numerical features:\")\n",
    "print(df[numeric_columns].head())"
   ]
  },
  {
   "cell_type": "code",
   "execution_count": 30,
   "metadata": {},
   "outputs": [
    {
     "name": "stdout",
     "output_type": "stream",
     "text": [
      "\n",
      "Processed data saved to 'E:/KAIM 2/KAIM 2 Week 6/Week-6/data/processed_data.csv'\n"
     ]
    }
   ],
   "source": [
    "# Save the processed dataset\n",
    "df.to_csv(\"E:/KAIM 2/KAIM 2 Week 6/Week-6/data/processed_data.csv\", index=False)\n",
    "print(\"\\nProcessed data saved to 'E:/KAIM 2/KAIM 2 Week 6/Week-6/data/processed_data.csv'\")"
   ]
  },
  {
   "cell_type": "markdown",
   "metadata": {},
   "source": [
    "Key Points:\n",
    "\n",
    "Aggregate features provide a summary of customer behavior, which can be crucial for credit scoring.\n",
    "Time-based features can help identify patterns in transaction timing.\n",
    "Encoding categorical variables allows them to be used in machine learning models.\n",
    "Handling missing values ensures that all data points can be used in the model.\n",
    "Standardizing numerical features puts all variables on the same scale, which is important for many machine learning algorithms."
   ]
  }
 ],
 "metadata": {
  "kernelspec": {
   "display_name": "Python 3",
   "language": "python",
   "name": "python3"
  },
  "language_info": {
   "codemirror_mode": {
    "name": "ipython",
    "version": 3
   },
   "file_extension": ".py",
   "mimetype": "text/x-python",
   "name": "python",
   "nbconvert_exporter": "python",
   "pygments_lexer": "ipython3",
   "version": "3.12.5"
  }
 },
 "nbformat": 4,
 "nbformat_minor": 2
}
