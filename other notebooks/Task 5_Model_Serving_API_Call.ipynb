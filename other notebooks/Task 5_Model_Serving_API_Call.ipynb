{
 "cells": [
  {
   "cell_type": "markdown",
   "metadata": {},
   "source": [
    "## Model Serving API Call (Task 5)"
   ]
  },
  {
   "cell_type": "code",
   "execution_count": null,
   "metadata": {},
   "outputs": [],
   "source": [
    "pip install flask pandas scikit-learn joblib"
   ]
  },
  {
   "cell_type": "code",
   "execution_count": null,
   "metadata": {},
   "outputs": [],
   "source": [
    "from flask import Flask, request, jsonify\n",
    "import pandas as pd\n",
    "import joblib\n",
    "from sklearn.preprocessing import StandardScaler\n",
    "\n",
    "app = Flask(__name__)\n",
    "\n",
    "# Load the trained model and scaler\n",
    "model = joblib.load('credit_scoring_model.joblib')\n",
    "scaler = joblib.load('scaler.joblib')\n",
    "\n",
    "@app.route('/predict', methods=['POST'])\n",
    "def predict():\n",
    "    # Get the input data from the request\n",
    "    data = request.json\n",
    "    \n",
    "    # Convert the input data to a DataFrame\n",
    "    input_df = pd.DataFrame([data])\n",
    "    \n",
    "    # Ensure the input data has the correct features\n",
    "    required_features = ['Recency', 'Frequency', 'Monetary', 'Standardization']\n",
    "    for feature in required_features:\n",
    "        if feature not in input_df.columns:\n",
    "            return jsonify({'error': f'Missing required feature: {feature}'}), 400\n",
    "    \n",
    "    # Preprocess the input data\n",
    "    input_scaled = scaler.transform(input_df)\n",
    "    \n",
    "    # Make predictions\n",
    "    prediction = model.predict(input_scaled)\n",
    "    prediction_proba = model.predict_proba(input_scaled)\n",
    "    \n",
    "    # Prepare the response\n",
    "    response = {\n",
    "        'prediction': prediction[0],\n",
    "        'probability': {\n",
    "            'bad': prediction_proba[0][0],\n",
    "            'good': prediction_proba[0][1]\n",
    "        }\n",
    "    }\n",
    "    \n",
    "    return jsonify(response)\n",
    "\n",
    "if __name__ == '__main__':\n",
    "    app.run(debug=True)"
   ]
  }
 ],
 "metadata": {
  "language_info": {
   "name": "python"
  }
 },
 "nbformat": 4,
 "nbformat_minor": 2
}
