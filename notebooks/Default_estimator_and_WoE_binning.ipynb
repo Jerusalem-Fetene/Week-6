{
 "cells": [
  {
   "cell_type": "markdown",
   "metadata": {},
   "source": [
    "## Default estimator and WoE binning (Task 3)"
   ]
  },
  {
   "cell_type": "code",
   "execution_count": null,
   "metadata": {},
   "outputs": [],
   "source": [
    "import pandas as pd\n",
    "import numpy as np\n",
    "import matplotlib.pyplot as plt\n",
    "import seaborn as sns\n",
    "from sklearn.preprocessing import StandardScaler\n",
    "from scipy.stats import boxcox\n",
    "import warnings\n",
    "warnings.filterwarnings('ignore')"
   ]
  },
  {
   "cell_type": "code",
   "execution_count": null,
   "metadata": {},
   "outputs": [],
   "source": [
    "# Load the data\n",
    "df = pd.read_csv(\"data.csv\")\n",
    "df['TransactionStartTime'] = pd.to_datetime(df['TransactionStartTime'])"
   ]
  },
  {
   "cell_type": "code",
   "execution_count": null,
   "metadata": {},
   "outputs": [],
   "source": [
    "# 1. Construct a default estimator (proxy)\n",
    "# Calculate RFMS features\n",
    "def calculate_rfms(df):\n",
    "    # Set the last date of the dataset\n",
    "    last_date = df['TransactionStartTime'].max()\n",
    "    \n",
    "    rfms = df.groupby('CustomerId').agg({\n",
    "        'TransactionStartTime': lambda x: (last_date - x.max()).days,  # Recency\n",
    "        'TransactionId': 'count',  # Frequency\n",
    "        'Amount': 'sum',  # Monetary\n",
    "        'Amount': 'std'  # Standardization (using std of Amount as a simple proxy)\n",
    "    })\n",
    "    \n",
    "    rfms.columns = ['Recency', 'Frequency', 'Monetary', 'Standardization']\n",
    "    return rfms\n",
    "\n",
    "rfms = calculate_rfms(df)"
   ]
  },
  {
   "cell_type": "code",
   "execution_count": null,
   "metadata": {},
   "outputs": [],
   "source": [
    "# Normalize RFMS features\n",
    "scaler = StandardScaler()\n",
    "rfms_normalized = pd.DataFrame(scaler.fit_transform(rfms), columns=rfms.columns, index=rfms.index)"
   ]
  },
  {
   "cell_type": "code",
   "execution_count": null,
   "metadata": {},
   "outputs": [],
   "source": [
    "# Calculate RFMS score (simple average of normalized features)\n",
    "rfms_normalized['RFMS_Score'] = rfms_normalized.mean(axis=1)"
   ]
  },
  {
   "cell_type": "code",
   "execution_count": null,
   "metadata": {},
   "outputs": [],
   "source": [
    "# Visualize RFMS score distribution\n",
    "plt.figure(figsize=(10, 6))\n",
    "sns.histplot(rfms_normalized['RFMS_Score'], kde=True)\n",
    "plt.title('Distribution of RFMS Scores')\n",
    "plt.xlabel('RFMS Score')\n",
    "plt.show()"
   ]
  },
  {
   "cell_type": "code",
   "execution_count": null,
   "metadata": {},
   "outputs": [],
   "source": [
    "# Define threshold for good/bad classification (e.g., median)\n",
    "threshold = rfms_normalized['RFMS_Score'].median()\n",
    "rfms_normalized['Label'] = np.where(rfms_normalized['RFMS_Score'] >= threshold, 'Good', 'Bad')"
   ]
  },
  {
   "cell_type": "code",
   "execution_count": null,
   "metadata": {},
   "outputs": [],
   "source": [
    "print(\"RFMS scores and labels:\")\n",
    "print(rfms_normalized.head())"
   ]
  },
  {
   "cell_type": "code",
   "execution_count": null,
   "metadata": {},
   "outputs": [],
   "source": [
    "# Visualize users in RFMS space\n",
    "plt.figure(figsize=(12, 10))\n",
    "sns.scatterplot(data=rfms_normalized, x='Recency', y='Monetary', hue='Label', size='Frequency', sizes=(20, 200))\n",
    "plt.title('Users in RFMS Space')\n",
    "plt.show()"
   ]
  },
  {
   "cell_type": "code",
   "execution_count": null,
   "metadata": {},
   "outputs": [],
   "source": [
    "# 2. Perform Weight of Evidence (WoE) binning\n",
    "def calculate_woe_iv(df, feature, target, bins=10):\n",
    "    df = df.copy()\n",
    "    \n",
    "    if df[feature].dtype == 'O':\n",
    "        df['bins'] = df[feature]\n",
    "    else:\n",
    "        df['bins'] = pd.qcut(df[feature], q=bins, duplicates='drop')\n",
    "    \n",
    "    grouped = df.groupby('bins')[target].agg(['count', 'sum'])\n",
    "    grouped['non_event'] = grouped['count'] - grouped['sum']\n",
    "    grouped['percent_event'] = grouped['sum'] / grouped['sum'].sum()\n",
    "    grouped['percent_non_event'] = grouped['non_event'] / grouped['non_event'].sum()\n",
    "    \n",
    "    grouped['WoE'] = np.log(grouped['percent_event'] / grouped['percent_non_event'])\n",
    "    grouped['IV'] = (grouped['percent_event'] - grouped['percent_non_event']) * grouped['WoE']\n",
    "    \n",
    "    iv = grouped['IV'].sum()\n",
    "    \n",
    "    return grouped, iv"
   ]
  },
  {
   "cell_type": "code",
   "execution_count": null,
   "metadata": {},
   "outputs": [],
   "source": [
    "# Perform WoE binning for each RFMS feature\n",
    "target = 'Label'\n",
    "rfms_normalized[target] = rfms_normalized[target].map({'Good': 1, 'Bad': 0})\n",
    "\n",
    "for feature in ['Recency', 'Frequency', 'Monetary', 'Standardization']:\n",
    "    woe_grouped, iv = calculate_woe_iv(rfms_normalized, feature, target)\n",
    "    \n",
    "    print(f\"\\nWeight of Evidence for {feature}:\")\n",
    "    print(woe_grouped[['count', 'WoE']])\n",
    "    print(f\"Information Value: {iv}\")\n",
    "    \n",
    "    # Visualize WoE\n",
    "    plt.figure(figsize=(10, 6))\n",
    "    woe_grouped['WoE'].plot(kind='bar')\n",
    "    plt.title(f'Weight of Evidence - {feature}')\n",
    "    plt.xlabel('Bins')\n",
    "    plt.ylabel('Weight of Evidence')\n",
    "    plt.xticks(rotation=45)\n",
    "    plt.tight_layout()\n",
    "    plt.show()"
   ]
  },
  {
   "cell_type": "markdown",
   "metadata": {},
   "source": [
    "Key observations and next steps:\n",
    "\n",
    "RFMS Classification: The script classifies users as 'Good' or 'Bad' based on their RFMS score. You may need to adjust the threshold based on domain knowledge or business requirements.\n",
    "Visualization: The scatter plot in RFMS space helps visualize how users are distributed and classified. This can provide insights into the effectiveness of the classification.\n",
    "WoE Binning: The Weight of Evidence shows how different bins of each feature contribute to distinguishing between 'Good' and 'Bad' customers. Positive WoE indicates higher odds of being a 'Good' customer, while negative WoE indicates higher odds of being a 'Bad' customer.\n",
    "Information Value (IV): The IV provides a measure of the predictive power of each feature. Generally:\n",
    "< 0.02: Unpredictive\n",
    "0.02 to 0.1: Weak\n",
    "0.1 to 0.3: Medium\n",
    "0.3: Strong\n",
    "Feature Selection: Based on the IV values, you can select the most predictive features for your credit scoring model.\n",
    "Model Development: You can now use these WoE-transformed features to develop your credit scoring model. Logistic Regression is often used with WoE features due to its interpretability.\n",
    "Validation: Ensure to validate your model on a separate test set and consider using cross-validation for more robust performance estimation.\n",
    "Monitoring: Once deployed, regularly monitor the model's performance and update it as needed, as the relationships between features and creditworthiness may change over time."
   ]
  }
 ],
 "metadata": {
  "language_info": {
   "name": "python"
  }
 },
 "nbformat": 4,
 "nbformat_minor": 2
}
